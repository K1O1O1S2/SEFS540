{
 "cells": [
  {
   "cell_type": "code",
   "execution_count": 12,
   "id": "03fd7ab4",
   "metadata": {},
   "outputs": [
    {
     "ename": "SyntaxError",
     "evalue": "invalid syntax (<ipython-input-12-c0ddac908ece>, line 22)",
     "output_type": "error",
     "traceback": [
      "\u001b[1;36m  File \u001b[1;32m\"<ipython-input-12-c0ddac908ece>\"\u001b[1;36m, line \u001b[1;32m22\u001b[0m\n\u001b[1;33m    docker build --rm -t matlab-notebook\u001b[0m\n\u001b[1;37m           ^\u001b[0m\n\u001b[1;31mSyntaxError\u001b[0m\u001b[1;31m:\u001b[0m invalid syntax\n"
     ]
    }
   ],
   "source": [
    "## Matlab extension\n",
    "#https://github.com/mathworks/jupyter-matlab-proxy\n",
    "#!python -m pip install jupyter-matlab-proxy\n",
    "\n",
    "#!git clone https://github.com/mathworks/jupyter-matlab-proxy.git\n",
    "#!cd jupyter-matlab-proxy\n",
    "#!python -m pip install jupyter-matlab-proxy\n",
    "import shutil \n",
    "print(shutil.which(\"python\"))\n",
    "print(shutil.which(\"matlab\"))\n",
    "print(shutil.which(\"matlab-proxy-app\"))\n",
    "print(shutil.which(\"jupyter\"))\n",
    "\n",
    "#!jupyter serverextension list\n",
    "#!pip install jupyter_contrib_nbextensions\n",
    "#!jupyter lab\n",
    "#!jupyter nbextension list\n",
    "!git clone https://github.com/mathworks-ref-arch/matlab-integration-for-jupyter.git\n",
    "    \n",
    "#!jupyter notebook\n",
    "!cd matlab-integration-for-jupyter/matlab\n",
    "docker build --rm -t matlab-notebook"
   ]
  }
 ],
 "metadata": {
  "kernelspec": {
   "display_name": "Python 3",
   "language": "python",
   "name": "python3"
  },
  "language_info": {
   "codemirror_mode": {
    "name": "ipython",
    "version": 3
   },
   "file_extension": ".py",
   "mimetype": "text/x-python",
   "name": "python",
   "nbconvert_exporter": "python",
   "pygments_lexer": "ipython3",
   "version": "3.8.8"
  }
 },
 "nbformat": 4,
 "nbformat_minor": 5
}
