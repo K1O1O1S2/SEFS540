{
 "cells": [
  {
   "cell_type": "code",
   "execution_count": 1,
   "id": "8d8a62fc",
   "metadata": {},
   "outputs": [],
   "source": [
    "#Load Libraries\n",
    "from pyomo.environ import *\n",
    "import numpy as np \n",
    "import sys, os, pickle, time\n",
    "import pandas\n",
    "import pyomo.opt as pyomo_opt\n",
    "import pyomo.core as pyomo\n"
   ]
  },
  {
   "cell_type": "markdown",
   "id": "42be2c28",
   "metadata": {},
   "source": [
    "### MODEL Conrad _ Pyomo Formulation "
   ]
  },
  {
   "cell_type": "code",
   "execution_count": 2,
   "id": "d46b321b",
   "metadata": {},
   "outputs": [],
   "source": [
    "# Define inputs \n",
    "work_dir = os.getcwd()\n",
    "data_dir = os.path.join(work_dir, 'data')\n",
    "parcel_csv = os.path.join(data_dir, 'Parcels.txt')\n",
    "adjacent_csv = os.path.join(data_dir, 'Adjacency.txt')\n",
    "## SetF parcels in the model \n",
    "\n",
    "## Define outputs \n",
    "pickle_out = os.path.join(work_dir, 'lab4_conrad.pkl')\n",
    "lp_out = os.path.join(work_dir, 'lab4_conrad.lp')\n"
   ]
  },
  {
   "cell_type": "code",
   "execution_count": 20,
   "id": "23edcaf0",
   "metadata": {},
   "outputs": [],
   "source": [
    "# Import files \n",
    "parcel_df = pandas.read_csv(parcel_csv, header=None, names=['id', 'area', 'price'])\n",
    "adjacent_df = pandas.read_csv(adjacent_csv, header=None, names=['id1', 'id2'])\n",
    "temp = adjacent_df.groupby(['id1'])['id2'].apply(lambda x: list(x)).reset_index().rename(columns={'id1': 'id', 'id2': 'adj_list'})\n",
    "parcel_df = parcel_df.merge(temp, on='id', how='left')\n",
    "\n",
    "#print(parcel_df.info())\n",
    "#print(parcel_df.head())\n"
   ]
  },
  {
   "cell_type": "code",
   "execution_count": 3,
   "id": "1e8c8146",
   "metadata": {},
   "outputs": [],
   "source": [
    "#Define function \n",
    "\n",
    "### create variables \n",
    "def create_var(df_in): \n",
    "    df_in = df_in.dropna()\n",
    "    d_out.update(dict())\n",
    "    return d_out "
   ]
  },
  {
   "cell_type": "code",
   "execution_count": null,
   "id": "cdc4b47c",
   "metadata": {},
   "outputs": [],
   "source": [
    "# Define constraints\n"
   ]
  },
  {
   "cell_type": "code",
   "execution_count": 4,
   "id": "a02946ae",
   "metadata": {},
   "outputs": [
    {
     "ename": "NameError",
     "evalue": "name 'model' is not defined",
     "output_type": "error",
     "traceback": [
      "\u001b[1;31m---------------------------------------------------------------------------\u001b[0m",
      "\u001b[1;31mNameError\u001b[0m                                 Traceback (most recent call last)",
      "\u001b[1;32m<ipython-input-4-60267cb8010a>\u001b[0m in \u001b[0;36m<module>\u001b[1;34m\u001b[0m\n\u001b[0;32m      1\u001b[0m \u001b[1;31m### Parcels set\u001b[0m\u001b[1;33m\u001b[0m\u001b[1;33m\u001b[0m\u001b[1;33m\u001b[0m\u001b[0m\n\u001b[1;32m----> 2\u001b[1;33m \u001b[0mmodel\u001b[0m\u001b[1;33m.\u001b[0m\u001b[0mS\u001b[0m \u001b[1;33m=\u001b[0m \u001b[0mSet\u001b[0m\u001b[1;33m(\u001b[0m\u001b[1;33m)\u001b[0m\u001b[1;33m\u001b[0m\u001b[1;33m\u001b[0m\u001b[0m\n\u001b[0m\u001b[0;32m      3\u001b[0m \u001b[0mmodel\u001b[0m\u001b[1;33m.\u001b[0m\u001b[0mAdj\u001b[0m \u001b[1;33m=\u001b[0m \u001b[0mSet\u001b[0m\u001b[1;33m(\u001b[0m\u001b[1;33m)\u001b[0m \u001b[1;31m#tuple for each cell i adjacent cell j\u001b[0m\u001b[1;33m\u001b[0m\u001b[1;33m\u001b[0m\u001b[0m\n",
      "\u001b[1;31mNameError\u001b[0m: name 'model' is not defined"
     ]
    }
   ],
   "source": [
    "### Sets \n",
    "\n",
    "### Set of directed vertices i>j, j>i \n",
    "### Set of nodes \n",
    "### Set of terminal nodes \n",
    "model.S = Set()\n",
    "model.Adj = Set() #tuple for each cell i adjacent cell j "
   ]
  },
  {
   "cell_type": "code",
   "execution_count": null,
   "id": "d35bf47a",
   "metadata": {},
   "outputs": [],
   "source": []
  },
  {
   "cell_type": "code",
   "execution_count": null,
   "id": "e2bc436a",
   "metadata": {},
   "outputs": [],
   "source": [
    "#Objective function \n",
    "def area_rule(model):\n",
    "    return sum(model.area[i]*model.x_var[i] for i in model.S)\n",
    "model.tot_area = Objective(rule=area_rule, sense=maximize)"
   ]
  },
  {
   "cell_type": "code",
   "execution_count": 11,
   "id": "e4e91d80",
   "metadata": {},
   "outputs": [],
   "source": [
    "#Cosntraints \n",
    "\n",
    "    # 1. Budget constraint \n",
    "        ### sum costj*xj <= C \n",
    "def budget_rule(model):\n",
    "    return sum(model.cost[i]*model.x_var[i] for i in model.S) <= model.budget\n",
    "\n",
    "    # 2. Select core parcel \n",
    "def terminal_node_rule(model,i):\n",
    "    return model.x_var[i] == 1 \n",
    "        ### xt = 1 for t belonging to all T \n",
    "        # terminal vertex = parcel 23 \n",
    "\n",
    "    # 3. Flow injected <= n and z0 absorb any residual flow \n",
    "        ### z0 + y0,^t = n \n",
    "        ### if budget constraint \n",
    "def injected_flow_rule(model,core_parcel):\n",
    "    return (model.z_var + model.yij_var[0,core_parcel] == model.n)\n",
    "    \n",
    "    # 4. If flow ij is on, then node j must be added to the reserve \n",
    "        ### yij <= n*xj for all i,j belonging to E' (set of directed edges)\n",
    "def inflow_node_rule(model, i, j):\n",
    "    return model.yij_var[i,j] <= model.n*model.x_var[j]\n",
    "\n",
    "    # 5. xj absrobs flow \n",
    "        ### Sum i:(i,j) belonging to E' yij = xj + Sum l:(j,l) \n",
    "        #belonging to E' yjl for all j in vertices\n",
    "def outflow_rule(model, j):\n",
    "    return (sum(model.yij_var[i,j] for i in model.S) <= model.x[j] \n",
    "            + sum(model.yij_var[j,l] for l in model.S if l not in model.sSource))\n",
    "            #what is model.sSource \n",
    "\n",
    "    # 6. \n",
    "        ### Sum xj = y0,^t for all j belonging to V \n",
    "def node_rule(model,j, core_parcel):\n",
    "    return (sum(model.x_var[j] == model.yij_var[0,core_parcel]))\n",
    "            "
   ]
  },
  {
   "cell_type": "code",
   "execution_count": null,
   "id": "1884e024",
   "metadata": {},
   "outputs": [],
   "source": [
    "#### Variables \n",
    "core_parcel = 23\n",
    "n = len(parcel_df)\n",
    "\n",
    "#scrope creeping \n",
    "\n",
    "# Decision Variables \n",
    "\n",
    "# Parcels to be selected \n",
    "model.x_var = Var(model.S, within=Binary)\n",
    "model.yij_var = Var(model.Adj, within=Binary)\n",
    "model.z_var = Var(...)\n",
    "\n",
    "#### PARAMETERS \n",
    "### Cost of each parcels \n",
    "model.cost = Param(model.S, within=PositiveReals)\n",
    "\n",
    "### Area of each parcels \n",
    "model.area = Param(model.S, within=PositiveReals)\n",
    "\n",
    "### Parameters \n",
    "model.budget = Param(initialize=1000000)\n",
    "model.m = Param(initialize=121)\n",
    "model.core_parcel = ...\n",
    "model.n\n",
    "\n",
    "  "
   ]
  },
  {
   "cell_type": "code",
   "execution_count": null,
   "id": "779466e3",
   "metadata": {},
   "outputs": [],
   "source": [
    "# Define model \n",
    "model = pyomo.ConcreteModel()\n",
    "\n"
   ]
  },
  {
   "cell_type": "code",
   "execution_count": null,
   "id": "7638263e",
   "metadata": {},
   "outputs": [],
   "source": [
    "# Solve the problem \n",
    "opt=SolverFactory(\"cplex\")\n",
    "result_obj = opt.slve(model, tree=True)\n",
    "model.pprint()"
   ]
  }
 ],
 "metadata": {
  "kernelspec": {
   "display_name": "Python 3",
   "language": "python",
   "name": "python3"
  },
  "language_info": {
   "codemirror_mode": {
    "name": "ipython",
    "version": 3
   },
   "file_extension": ".py",
   "mimetype": "text/x-python",
   "name": "python",
   "nbconvert_exporter": "python",
   "pygments_lexer": "ipython3",
   "version": "3.8.8"
  }
 },
 "nbformat": 4,
 "nbformat_minor": 5
}
